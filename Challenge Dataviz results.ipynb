{
 "cells": [
  {
   "cell_type": "markdown",
   "metadata": {},
   "source": [
    "# DataViz notebook\n",
    "    1) Visualization of top-5 most relevant variables of XGboost model with PCA\n",
    "    2) Bonus: Characterization of False positives, false negatives\n",
    "    \n",
    "    Author: Nelson Fernandez Pinto\n",
    "            @nfsrules"
   ]
  },
  {
   "cell_type": "code",
   "execution_count": 37,
   "metadata": {},
   "outputs": [],
   "source": [
    "from sklearn import decomposition\n",
    "import seaborn as sns\n",
    "import pandas as pd\n",
    "import numpy as np\n",
    "import matplotlib.pyplot as plt"
   ]
  },
  {
   "cell_type": "code",
   "execution_count": 17,
   "metadata": {},
   "outputs": [],
   "source": [
    "# Open train partitions from Model training notebook\n",
    "X_train = pd.read_csv('X_train_linear.csv', index_col=0)\n",
    "y_train = pd.read_csv('y_train_linear.csv', index_col=0)"
   ]
  },
  {
   "cell_type": "code",
   "execution_count": 14,
   "metadata": {},
   "outputs": [],
   "source": [
    "# Top 5 most relevant variables from XGboost time-series linear fit\n",
    "top5_var_names = ['VAR_MRR_COEF',\n",
    "                 'AGE_COEF',\n",
    "                 'FIX_MRR_COEF',\n",
    "                 'DELTA_LAST_INVOICE_LOAD_INTERCEPT',\n",
    "                 'USERS_PER_FTE_COEF']\n"
   ]
  },
  {
   "cell_type": "code",
   "execution_count": 15,
   "metadata": {},
   "outputs": [
    {
     "data": {
      "text/plain": [
       "PCA(n_components=2)"
      ]
     },
     "execution_count": 15,
     "metadata": {},
     "output_type": "execute_result"
    }
   ],
   "source": [
    "# Create PCA instance of dimension 2\n",
    "pca = decomposition.PCA(n_components=2)\n",
    "\n",
    "# Train PCA ins\n",
    "pca.fit(X_train[top5_var_names]/X_train[top5_var_names].max())\n"
   ]
  },
  {
   "cell_type": "code",
   "execution_count": 19,
   "metadata": {},
   "outputs": [
    {
     "data": {
      "text/html": [
       "<div>\n",
       "<style scoped>\n",
       "    .dataframe tbody tr th:only-of-type {\n",
       "        vertical-align: middle;\n",
       "    }\n",
       "\n",
       "    .dataframe tbody tr th {\n",
       "        vertical-align: top;\n",
       "    }\n",
       "\n",
       "    .dataframe thead th {\n",
       "        text-align: right;\n",
       "    }\n",
       "</style>\n",
       "<table border=\"1\" class=\"dataframe\">\n",
       "  <thead>\n",
       "    <tr style=\"text-align: right;\">\n",
       "      <th></th>\n",
       "      <th>PC1</th>\n",
       "      <th>PC2</th>\n",
       "      <th>Class</th>\n",
       "    </tr>\n",
       "  </thead>\n",
       "  <tbody>\n",
       "    <tr>\n",
       "      <th>0</th>\n",
       "      <td>0.128998</td>\n",
       "      <td>0.014134</td>\n",
       "      <td>0</td>\n",
       "    </tr>\n",
       "    <tr>\n",
       "      <th>1</th>\n",
       "      <td>-0.022558</td>\n",
       "      <td>-0.048184</td>\n",
       "      <td>1</td>\n",
       "    </tr>\n",
       "    <tr>\n",
       "      <th>2</th>\n",
       "      <td>0.007456</td>\n",
       "      <td>0.075387</td>\n",
       "      <td>0</td>\n",
       "    </tr>\n",
       "    <tr>\n",
       "      <th>3</th>\n",
       "      <td>0.086048</td>\n",
       "      <td>-0.014865</td>\n",
       "      <td>0</td>\n",
       "    </tr>\n",
       "    <tr>\n",
       "      <th>4</th>\n",
       "      <td>-0.035464</td>\n",
       "      <td>-0.032325</td>\n",
       "      <td>0</td>\n",
       "    </tr>\n",
       "    <tr>\n",
       "      <th>...</th>\n",
       "      <td>...</td>\n",
       "      <td>...</td>\n",
       "      <td>...</td>\n",
       "    </tr>\n",
       "    <tr>\n",
       "      <th>3565</th>\n",
       "      <td>-0.010594</td>\n",
       "      <td>-0.027493</td>\n",
       "      <td>0</td>\n",
       "    </tr>\n",
       "    <tr>\n",
       "      <th>3566</th>\n",
       "      <td>-0.043453</td>\n",
       "      <td>-0.021240</td>\n",
       "      <td>0</td>\n",
       "    </tr>\n",
       "    <tr>\n",
       "      <th>3567</th>\n",
       "      <td>-0.030143</td>\n",
       "      <td>-0.026983</td>\n",
       "      <td>0</td>\n",
       "    </tr>\n",
       "    <tr>\n",
       "      <th>3568</th>\n",
       "      <td>-0.016821</td>\n",
       "      <td>-0.061916</td>\n",
       "      <td>1</td>\n",
       "    </tr>\n",
       "    <tr>\n",
       "      <th>3569</th>\n",
       "      <td>-0.046824</td>\n",
       "      <td>-0.018963</td>\n",
       "      <td>0</td>\n",
       "    </tr>\n",
       "  </tbody>\n",
       "</table>\n",
       "<p>3570 rows × 3 columns</p>\n",
       "</div>"
      ],
      "text/plain": [
       "           PC1       PC2  Class\n",
       "0     0.128998  0.014134      0\n",
       "1    -0.022558 -0.048184      1\n",
       "2     0.007456  0.075387      0\n",
       "3     0.086048 -0.014865      0\n",
       "4    -0.035464 -0.032325      0\n",
       "...        ...       ...    ...\n",
       "3565 -0.010594 -0.027493      0\n",
       "3566 -0.043453 -0.021240      0\n",
       "3567 -0.030143 -0.026983      0\n",
       "3568 -0.016821 -0.061916      1\n",
       "3569 -0.046824 -0.018963      0\n",
       "\n",
       "[3570 rows x 3 columns]"
      ]
     },
     "execution_count": 19,
     "metadata": {},
     "output_type": "execute_result"
    }
   ],
   "source": [
    "# Transform data to 2D space\n",
    "X_pca = pca.transform(X_train[top5_var_names]/X_train[top5_var_names].max())\n",
    "\n",
    "# Create a Pandas dataframe with results\n",
    "X_pca = pd.DataFrame(X_pca)\n",
    "X_pca.columns = ['PC1', 'PC2']\n",
    "X_pca['Class'] = y_train.values\n",
    "X_pca"
   ]
  },
  {
   "cell_type": "code",
   "execution_count": 30,
   "metadata": {},
   "outputs": [
    {
     "data": {
      "text/plain": [
       "Text(0, 0.5, 'Explained variance (%)')"
      ]
     },
     "execution_count": 30,
     "metadata": {},
     "output_type": "execute_result"
    },
    {
     "data": {
      "image/png": "[encoded data removed]",
      "text/plain": [
       "<Figure size 432x288 with 1 Axes>"
      ]
     },
     "metadata": {
      "needs_background": "light"
     },
     "output_type": "display_data"
    }
   ],
   "source": [
    "sns.barplot(y=pca.explained_variance_ratio_,\n",
    "            x=['PC1', 'PC2'])\n",
    "plt.title('Explained variance per PC')\n",
    "plt.xlabel('Principal components')\n",
    "plt.ylabel('Explained variance (%)')"
   ]
  },
  {
   "cell_type": "code",
   "execution_count": 62,
   "metadata": {},
   "outputs": [
    {
     "name": "stdout",
     "output_type": "stream",
     "text": [
      "Explained variance PC1: 0.423388708984112%, PC2: 0.2562659807741728%, TOTAL: 0.6796546897582848%\n"
     ]
    }
   ],
   "source": [
    "print('Explained variance PC1: {}%, PC2: {}%, TOTAL: {}%'.format(pca.explained_variance_ratio_[0],\n",
    "                                                              pca.explained_variance_ratio_[1],\n",
    "                                                              np.sum(pca.explained_variance_ratio_)))\n"
   ]
  },
  {
   "cell_type": "code",
   "execution_count": 63,
   "metadata": {},
   "outputs": [
    {
     "data": {
      "image/png": "[encoded data removed]",
      "text/plain": [
       "<Figure size 720x432 with 1 Axes>"
      ]
     },
     "metadata": {
      "needs_background": "light"
     },
     "output_type": "display_data"
    }
   ],
   "source": [
    "plt.rcParams['figure.figsize'] = [10, 6]\n",
    "sns.scatterplot(x='PC1',\n",
    "                y='PC2',\n",
    "                data=X_pca,\n",
    "                hue='Class',\n",
    "                alpha=0.5)\n",
    "\n",
    "plt.title('PCA 2D')\n",
    "plt.xlabel('PC1')\n",
    "plt.ylabel('PC2')\n",
    "plt.grid()"
   ]
  },
  {
   "cell_type": "code",
   "execution_count": 53,
   "metadata": {},
   "outputs": [
    {
     "data": {
      "text/html": [
       "<div>\n",
       "<style scoped>\n",
       "    .dataframe tbody tr th:only-of-type {\n",
       "        vertical-align: middle;\n",
       "    }\n",
       "\n",
       "    .dataframe tbody tr th {\n",
       "        vertical-align: top;\n",
       "    }\n",
       "\n",
       "    .dataframe thead th {\n",
       "        text-align: right;\n",
       "    }\n",
       "</style>\n",
       "<table border=\"1\" class=\"dataframe\">\n",
       "  <thead>\n",
       "    <tr style=\"text-align: right;\">\n",
       "      <th></th>\n",
       "      <th>VAR_MRR_COEF</th>\n",
       "      <th>AGE_COEF</th>\n",
       "      <th>FIX_MRR_COEF</th>\n",
       "      <th>DELTA_LAST_INVOICE_LOAD_INTERCEPT</th>\n",
       "      <th>USERS_PER_FTE_COEF</th>\n",
       "    </tr>\n",
       "  </thead>\n",
       "  <tbody>\n",
       "    <tr>\n",
       "      <th>PC1</th>\n",
       "      <td>-0.075978</td>\n",
       "      <td>0.041791</td>\n",
       "      <td>0.003064</td>\n",
       "      <td>0.961811</td>\n",
       "      <td>-0.259597</td>\n",
       "    </tr>\n",
       "    <tr>\n",
       "      <th>PC2</th>\n",
       "      <td>0.057703</td>\n",
       "      <td>0.028972</td>\n",
       "      <td>0.028200</td>\n",
       "      <td>0.262923</td>\n",
       "      <td>0.962241</td>\n",
       "    </tr>\n",
       "  </tbody>\n",
       "</table>\n",
       "</div>"
      ],
      "text/plain": [
       "     VAR_MRR_COEF  AGE_COEF  FIX_MRR_COEF  DELTA_LAST_INVOICE_LOAD_INTERCEPT  \\\n",
       "PC1     -0.075978  0.041791      0.003064                           0.961811   \n",
       "PC2      0.057703  0.028972      0.028200                           0.262923   \n",
       "\n",
       "     USERS_PER_FTE_COEF  \n",
       "PC1           -0.259597  \n",
       "PC2            0.962241  "
      ]
     },
     "execution_count": 53,
     "metadata": {},
     "output_type": "execute_result"
    }
   ],
   "source": [
    "# Get the contribution of variables on each PC\n",
    "df_pca = pd.DataFrame(pca.components_, \n",
    "                      columns=top5_var_names)\n",
    "\n",
    "df_pca.index = ['PC1', 'PC2']\n",
    "df_pca"
   ]
  },
  {
   "cell_type": "markdown",
   "metadata": {},
   "source": [
    "### Comments:\n",
    "    Variance in PC1 is mostly explained by DELTA_LAST_INVOICE_LOAD_INTERCEPT and USERS_PER_FTE_COEF\n",
    "    PC1 > 0: Users that have a lot of time without loading money into the platform\n",
    "    PC2 < 0: Userts that have less time without loading money into the platform\n",
    "    \n",
    "    Variance in PC2 is mostly explained by USERS_PER_FTE_COEF and DELTA_LAST_INVOICE_LOAD_INTERCEPT\n",
    "    PC > 0: Users that increase their FTE per user over time\n",
    "    PC = 0: Users that keep stable their FTE per user over time\n",
    "    PC < 0: Users that reduce their FTE pre user over time\n",
    "    "
   ]
  },
  {
   "cell_type": "markdown",
   "metadata": {},
   "source": [
    "### Characterizing classes with PCA\n",
    "\n",
    "    Class 0: Users that stay in the platform increase their FTE per user over time\n",
    "             Some small fluctuations on the FTE per user around zero are allowed\n",
    "    \n",
    "    \n",
    "    Class 1: Users that reduce their FTE per user over time or does not grow\n",
    "             Users that loaded money into the platform long time ago"
   ]
  }
 ],
 "metadata": {
  "kernelspec": {
   "display_name": "NewPytorch",
   "language": "python",
   "name": "newpytorch"
  },
  "language_info": {
   "codemirror_mode": {
    "name": "ipython",
    "version": 3
   },
   "file_extension": ".py",
   "mimetype": "text/x-python",
   "name": "python",
   "nbconvert_exporter": "python",
   "pygments_lexer": "ipython3",
   "version": "3.7.7"
  }
 },
 "nbformat": 4,
 "nbformat_minor": 4
}

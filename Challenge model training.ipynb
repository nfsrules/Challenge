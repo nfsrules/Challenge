{
 "cells": [
  {
   "cell_type": "markdown",
   "metadata": {},
   "source": [
    "# Model training notebook\n",
    "    1) Baseline XGboost with mean aggregation (std and max also possible)\n",
    "    2) Model XGBoost time-series linear fit and imbalance correction\n",
    "    \n",
    "    Note: All risk to leave predictions are done on a N+1 basis\n",
    "    \n",
    "    Author: Nelson Fernandez Pinto\n",
    "            @nfsrules\n",
    "    "
   ]
  },
  {
   "cell_type": "code",
   "execution_count": 1,
   "metadata": {},
   "outputs": [],
   "source": [
    "import pandas as pd\n",
    "import matplotlib.pyplot as plt\n",
    "import seaborn as sns\n",
    "import numpy as np\n",
    "from tqdm import tqdm\n",
    "\n",
    "\n",
    "from sklearn.model_selection import train_test_split\n",
    "from sklearn.ensemble import RandomForestClassifier\n",
    "from sklearn.model_selection import cross_val_score\n",
    "from sklearn.model_selection import StratifiedKFold\n",
    "from sklearn.linear_model import LinearRegression\n"
   ]
  },
  {
   "cell_type": "code",
   "execution_count": 2,
   "metadata": {},
   "outputs": [],
   "source": [
    "df = pd.read_csv('filtered_dataset.csv', index_col=0)"
   ]
  },
  {
   "cell_type": "markdown",
   "metadata": {},
   "source": [
    "### Linear fit functions"
   ]
  },
  {
   "cell_type": "code",
   "execution_count": 17,
   "metadata": {},
   "outputs": [],
   "source": [
    "def linear_fit(data, x_var, y_var, fillna_method='bfill'):\n",
    "    '''Fit a linear regression model of type X*COEF + INTERCEPT\n",
    "    Inputs\n",
    "        data: Pandas dataframe of user\n",
    "        x_var: Variable name of x-axis (normally time-based months)\n",
    "        y_var: Variable to fit\n",
    "        fillna_method: If nan fill with next non NaN value (only method supported)\n",
    "    '''\n",
    "    # Fit a linear regression mode respecting sklearn input shape\n",
    "    reg = LinearRegression().fit(data[x_var].values.reshape(-1, 1),\n",
    "                                 data[y_var].fillna(method=fillna_method).values.reshape(-1, 1))\n",
    "\n",
    "    return reg.coef_, reg.intercept_\n",
    "\n",
    "\n",
    "def linear_fit_group(group):\n",
    "    '''Estimate linear fit for all variables of \n",
    "    a single user.\n",
    "    Inputs\n",
    "        group: Pandas dataframe \n",
    "    Return\n",
    "        Pandas dataframe with user linear fit\n",
    "    '''\n",
    "    group_coef = []\n",
    "    group_intercept = []\n",
    "    group_varname = []\n",
    "\n",
    "    for var_name in group.columns:\n",
    "\n",
    "        if not type(group[var_name].values[-1]) == str: # if variable does not contains an string\n",
    "            if not var_name == 'MONTH': # if y is not x \n",
    "                coef, intercept = linear_fit(group.dropna(subset=[var_name]), \n",
    "                                             'MONTH', # always X-axis time series\n",
    "                                              var_name, # time series to fit\n",
    "                                             'bfill') # if there are NaNs complete with next available value\n",
    "                # Fill list with new variables\n",
    "                group_coef.append(float(coef))\n",
    "                group_intercept.append(float(intercept))\n",
    "                group_varname.append(var_name)\n",
    "\n",
    "    # Built dataset of 1 group 2x variables\n",
    "    group_coef = pd.DataFrame(group_coef).T\n",
    "    group_coef.columns = [ i + '_COEF'  for i in group_varname]\n",
    "    group_intercept = pd.DataFrame(group_intercept).T\n",
    "    group_intercept.columns = [ i + '_INTERCEPT'  for i in group_varname]\n",
    "    group_df = pd.concat([group_coef, group_intercept], 1)\n",
    "    \n",
    "    return group_df\n",
    "\n",
    "\n",
    "def compute_linear_df(df):\n",
    "    '''Create a new dataset where every time series variable\n",
    "    has been modelized with a linear fit: COEF, INTERCEPT\n",
    "    Inputs\n",
    "        Pandas dataframe with time-series variables\n",
    "    Retunts\n",
    "        Pandas dataframe with linear fit of time-series variables\n",
    "    \n",
    "    '''\n",
    "    linear_df = []\n",
    "    for name, group in tqdm(df.groupby('ENTITY_ID')):\n",
    "        linear_df.append(linear_fit_group(group))\n",
    "\n",
    "    linear_df = pd.concat(linear_df)\n",
    "    linear_df['ENTITY_ID'] = df.ENTITY_ID.unique()\n",
    "    linear_df.index = np.arange(linear_df.shape[0])\n",
    "    \n",
    "    return linear_df\n"
   ]
  },
  {
   "cell_type": "markdown",
   "metadata": {},
   "source": [
    "### Model Python class Estimator()"
   ]
  },
  {
   "cell_type": "code",
   "execution_count": 60,
   "metadata": {},
   "outputs": [],
   "source": [
    "from sklearn.metrics import precision_recall_fscore_support\n",
    "import xgboost as xgb\n",
    "from sklearn.metrics import confusion_matrix\n",
    "from sklearn import metrics\n",
    "\n",
    "\n",
    "class Estimator():\n",
    "    def __init__(self, df, kind='mean', random_state=42, stratify=True, \n",
    "                 imbalanced=True, nrb_estimators=100, roc=True, top_n_features=5):\n",
    "        \n",
    "        self.df = df\n",
    "        self.random_seed = random_state\n",
    "        self.stratify = stratify\n",
    "        self.imbalanced = imbalanced\n",
    "        self.nrb_estimators = nrb_estimators\n",
    "        self.roc = roc\n",
    "        self.top_n_features = top_n_features\n",
    "        \n",
    "        # Start aggregation pipeline\n",
    "        print('Preparing dataset...')\n",
    "        if kind == 'mean':\n",
    "            self.X = df.groupby('ENTITY_ID').mean().drop(columns=['TARGET']).reset_index()\n",
    "        elif kind == 'std':\n",
    "            self.X = df.groupby('ENTITY_ID').std().drop(columns=['TARGET']).reset_index()\n",
    "        elif kind == 'max':\n",
    "            self.X = df.groupby('ENTITY_ID').max().drop(columns=['TARGET']).reset_index()\n",
    "        elif kind == 'linear':\n",
    "            self.X = compute_linear_df(df).drop(columns=['TARGET_COEF', 'TARGET_INTERCEPT'])\n",
    "        else:\n",
    "            raise('Only mean, std, linear are allowed')\n",
    "\n",
    "        self.y = df.groupby('ENTITY_ID').TARGET.max()\n",
    "        \n",
    "        # Train test split data (stratified)\n",
    "        print('Creating partition')\n",
    "        if stratify:\n",
    "            X_train, X_test, y_train, y_test = train_test_split(self.X, self.y, \n",
    "                                                                stratify=self.y, \n",
    "                                                                random_state=random_state)\n",
    "        else:\n",
    "            X_train, X_test, y_train, y_test = train_test_split(self.X, self.y, \n",
    "                                                                random_state=random_state)\n",
    "        # Parsing partition to class\n",
    "        self.X_train = X_train\n",
    "        self.X_test = X_test\n",
    "        self.y_train = y_train\n",
    "        self.y_test = y_test\n",
    "        \n",
    "        # Create XGBoost model\n",
    "        if imbalanced:\n",
    "            # Set optimal error of umbalanced class\n",
    "            scale_pos_weight = y_train[y_train == 0].shape[0] / sum(y_train)\n",
    "            self.model = xgb.XGBClassifier(use_label_encoder=False,\n",
    "                                          val_metric='binary:logistic',\n",
    "                                          random_state=7,\n",
    "                                          max_depth= None,\n",
    "                                          n_estimators=nrb_estimators,\n",
    "                                          scale_pos_weight=scale_pos_weight)\n",
    "        else:\n",
    "            self.model = xgb.XGBClassifier(use_label_encoder=False,\n",
    "                                          val_metric='binary:logistic',\n",
    "                                          random_state=7,\n",
    "                                          max_depth= None,\n",
    "                                          n_estimators=nrb_estimators,\n",
    "                                          scale_pos_weight=1)\n",
    "        \n",
    "        print('Train total samples: {}, Class 1: {}, Class 0: {}, Ratio: {}'.format(y_train.shape[0],\n",
    "                                                                               sum(y_train),\n",
    "                                                                               y_train.shape[0]-sum(y_train),\n",
    "                                                                               str(sum(y_train)*100/y_train.shape[0])+'%'\n",
    "                                                                                 ))\n",
    "        print('Test total samples: {}, Class 1: {}, Class 0: {}, Ratio: {}'.format(y_test.shape[0],\n",
    "                                                                               sum(y_test),\n",
    "                                                                               y_test.shape[0]-sum(y_test),\n",
    "                                                                               str(sum(y_test)*100/y_test.shape[0])+'%'\n",
    "                                                                                 ))\n",
    "            \n",
    "    def train(self):\n",
    "        print('Training XGB estimator...')\n",
    "        self.model.fit(self.X_train.drop(columns=['ENTITY_ID']), self.y_train)\n",
    "        print('Model trained')\n",
    "        \n",
    "        \n",
    "    def evaluate(self):\n",
    "        # Get prediction on test set\n",
    "        y_pred = self.model.predict(self.X_test.drop(columns=['ENTITY_ID']))\n",
    "        self.y_test_pred = y_pred\n",
    "        \n",
    "        # Compute precision and recall\n",
    "        prec, recall, support, beta = precision_recall_fscore_support(self.y_test, y_pred, \n",
    "                                                                       average='binary',\n",
    "                                                                       labels= ['0', '1'])\n",
    "        print('Precision: {}%, Recall: {}%'.format(prec*100, recall*100))\n",
    "        \n",
    "        # Get the top 5 most relevant features (dataframe)\n",
    "        xai_df = pd.DataFrame(self.model.feature_importances_).T\n",
    "        xai_df.columns = self.X_test.drop(columns=['ENTITY_ID']).columns\n",
    "        xai_df = xai_df.T.sort_values(by=0, ascending=False)\n",
    "        topn_features_name = xai_df.iloc[:self.top_n_features].index.values\n",
    "        print('Feature importance', xai_df)\n",
    "        \n",
    "        # Plot confusion matrix\n",
    "        cm = confusion_matrix(self.y_test, y_pred)\n",
    "        print('CM', cm)\n",
    "        sns.heatmap(cm)\n",
    "        \n",
    "        # Plot ROC curve\n",
    "        metrics.plot_roc_curve(self.model, self.X_test.drop(columns=['ENTITY_ID']), self.y_test) \n",
    "        \n",
    "        ## Study TPR per months\n",
    "        # Filter only the top N-relevant variables\n",
    "        df_test_topn = self.X_test[topn_features_name]\n",
    "        df_test_topn['CLASS'] = self.y_test.values\n",
    "        self.df_test_topn = df_test_topn\n",
    "        \n",
    "        # Find the AGE index column for every user in test set\n",
    "        test_ages_index = [self.df.groupby('ENTITY_ID').AGE.max().reset_index().index[index] for \n",
    "                         index in df_test_topn.index.values]\n",
    "                \n",
    "        test_ages = [self.df.groupby('ENTITY_ID').AGE.max().iloc[index] for index in test_ages_index]\n",
    "        df_test_topn['AGE'] = test_ages\n",
    "        df_test_topn['PRED'] = y_pred\n",
    "        \n",
    "        # Estimate the distribution of class 1\n",
    "        # Split in 25, 50, 75% quantiles\n",
    "        dist = df_test_topn[df_test_topn.CLASS == 1].AGE.describe()\n",
    "        per25_ = dist[4]\n",
    "        per50_ = dist[5]\n",
    "        per75_ = dist[6]\n",
    "\n",
    "        # Performance of class 1 per AGE\n",
    "        perf_25 = df_test_topn[(df_test_topn.CLASS == 1) &\n",
    "                               (df_test_topn.AGE <= per25_)]\n",
    "        perf_25 = sum(perf_25.CLASS == perf_25.PRED)/perf_25.shape[0]\n",
    "        print('Acc AGE <= {} months: {}%'.format(per25_, perf_25*100))\n",
    "\n",
    "\n",
    "        perf_50 = df_test_topn[(df_test_topn.CLASS == 1) &\n",
    "                               (df_test_topn.AGE > per25_) &\n",
    "                               (df_test_topn.AGE <= per50_)]\n",
    "        perf_50 = sum(perf_50.CLASS == perf_50.PRED)/perf_50.shape[0]\n",
    "        print('Acc AGE > {} and <= {} months: {}%'.format(per25_, \n",
    "                                                per50_,\n",
    "                                                perf_50*100))\n",
    "\n",
    "        perf_75 = df_test_topn[(df_test_topn.CLASS == 1) &\n",
    "                               (df_test_topn.AGE > per50_) &\n",
    "                               (df_test_topn.AGE <= per75_)]\n",
    "        perf_75 = sum(perf_75.CLASS == perf_75.PRED)/perf_75.shape[0]\n",
    "        print('Acc AGE > {} and <= {} months: {}%'.format(per50_, \n",
    "                                                per75_,\n",
    "                                                perf_75*100))\n",
    "\n",
    "        perf_100 = df_test_topn[(df_test_topn.CLASS == 1) &\n",
    "                               (df_test_topn.AGE > per75_)]\n",
    "        perf_100 = sum(perf_100.CLASS == perf_100.PRED)/perf_100.shape[0]\n",
    "\n",
    "        print('Acc AGE > {} months: {}%'.format(per75_, \n",
    "                                               perf_100*100))\n",
    "\n"
   ]
  },
  {
   "cell_type": "markdown",
   "metadata": {},
   "source": [
    "## I) Baseline XGboos w/ mean time series aggregation"
   ]
  },
  {
   "cell_type": "code",
   "execution_count": 52,
   "metadata": {},
   "outputs": [
    {
     "name": "stdout",
     "output_type": "stream",
     "text": [
      "Preparing dataset...\n",
      "Creating partition\n",
      "Train total samples: 3570, Class 1: 681, Class 0: 2889, Ratio: 19.07563025210084%\n",
      "Test total samples: 1190, Class 1: 227, Class 0: 963, Ratio: 19.07563025210084%\n"
     ]
    }
   ],
   "source": [
    "baseline = Estimator(df, kind='mean', imbalanced=False)"
   ]
  },
  {
   "cell_type": "code",
   "execution_count": 53,
   "metadata": {},
   "outputs": [
    {
     "name": "stdout",
     "output_type": "stream",
     "text": [
      "Training XGB estimator...\n",
      "[19:29:33] WARNING: /Users/runner/work/xgboost/xgboost/src/learner.cc:576: \n",
      "Parameters: { \"val_metric\" } might not be used.\n",
      "\n",
      "  This could be a false alarm, with some parameters getting used by language bindings but\n",
      "  then being mistakenly passed down to XGBoost core, or some parameter actually being used\n",
      "  but getting flagged wrongly here. Please open an issue if you find any such cases.\n",
      "\n",
      "\n",
      "[19:29:33] WARNING: /Users/runner/work/xgboost/xgboost/src/learner.cc:1115: Starting in XGBoost 1.3.0, the default evaluation metric used with the objective 'binary:logistic' was changed from 'error' to 'logloss'. Explicitly set eval_metric if you'd like to restore the old behavior.\n",
      "Model trained\n"
     ]
    }
   ],
   "source": [
    "baseline.train()"
   ]
  },
  {
   "cell_type": "code",
   "execution_count": 54,
   "metadata": {},
   "outputs": [
    {
     "name": "stdout",
     "output_type": "stream",
     "text": [
      "Precision: 86.38743455497382%, Recall: 72.68722466960352%\n",
      "Feature importance                                     0\n",
      "DELTA_LAST_INVOICE_LOAD      0.220707\n",
      "FIX_MRR                      0.098361\n",
      "VAR_MRR                      0.085506\n",
      "MONTH                        0.083406\n",
      "AVERAGE_TIME_PER_USER        0.078726\n",
      "USERS_PER_FTE                0.069078\n",
      "ACTIVE_USERS_PER_FTE         0.062764\n",
      "VAR_MRR_PER_FTE              0.056333\n",
      "AMOUNT_PAY_PER_ACTIVE_USERS  0.054161\n",
      "FTE_AGG                      0.052631\n",
      "LAST_LOAD_DATE               0.037879\n",
      "NB_ACTIVE_PLASTIC_CARDS      0.037145\n",
      "COUNT_PAY_PER_ACTIVE_USERS   0.031722\n",
      "FIRST_LOAD_DATE              0.031582\n",
      "AGE                          0.000000\n",
      "CM [[937  26]\n",
      " [ 62 165]]\n"
     ]
    },
    {
     "name": "stderr",
     "output_type": "stream",
     "text": [
      "/Users/nfsrules/opt/anaconda3/envs/NewPytorch/lib/python3.7/site-packages/ipykernel_launcher.py:115: SettingWithCopyWarning: \n",
      "A value is trying to be set on a copy of a slice from a DataFrame.\n",
      "Try using .loc[row_indexer,col_indexer] = value instead\n",
      "\n",
      "See the caveats in the documentation: https://pandas.pydata.org/pandas-docs/stable/user_guide/indexing.html#returning-a-view-versus-a-copy\n"
     ]
    },
    {
     "name": "stdout",
     "output_type": "stream",
     "text": [
      "Acc AGE <= 6.0 months: 70.96774193548387%\n",
      "Acc AGE > 6.0 and <= 12.0 months: 77.35849056603774%\n",
      "Acc AGE > 12.0 and <= 23.0 months: 84.48275862068965%\n",
      "Acc AGE > 23.0 months: 57.407407407407405%\n"
     ]
    },
    {
     "name": "stderr",
     "output_type": "stream",
     "text": [
      "/Users/nfsrules/opt/anaconda3/envs/NewPytorch/lib/python3.7/site-packages/ipykernel_launcher.py:123: SettingWithCopyWarning: \n",
      "A value is trying to be set on a copy of a slice from a DataFrame.\n",
      "Try using .loc[row_indexer,col_indexer] = value instead\n",
      "\n",
      "See the caveats in the documentation: https://pandas.pydata.org/pandas-docs/stable/user_guide/indexing.html#returning-a-view-versus-a-copy\n",
      "/Users/nfsrules/opt/anaconda3/envs/NewPytorch/lib/python3.7/site-packages/ipykernel_launcher.py:124: SettingWithCopyWarning: \n",
      "A value is trying to be set on a copy of a slice from a DataFrame.\n",
      "Try using .loc[row_indexer,col_indexer] = value instead\n",
      "\n",
      "See the caveats in the documentation: https://pandas.pydata.org/pandas-docs/stable/user_guide/indexing.html#returning-a-view-versus-a-copy\n"
     ]
    },
    {
     "data": {
      "image/png": "[encoded data removed]",
      "text/plain": [
       "<Figure size 432x288 with 2 Axes>"
      ]
     },
     "metadata": {
      "needs_background": "light"
     },
     "output_type": "display_data"
    },
    {
     "data": {
      "image/png": "[encoded data removed]",
      "text/plain": [
       "<Figure size 432x288 with 1 Axes>"
      ]
     },
     "metadata": {
      "needs_background": "light"
     },
     "output_type": "display_data"
    }
   ],
   "source": [
    "baseline.evaluate()"
   ]
  },
  {
   "cell_type": "markdown",
   "metadata": {},
   "source": [
    "## II) XGboost time-series linear fit & imbalance class correction\n"
   ]
  },
  {
   "cell_type": "code",
   "execution_count": 61,
   "metadata": {},
   "outputs": [
    {
     "name": "stderr",
     "output_type": "stream",
     "text": [
      "\r",
      "  0%|          | 0/4760 [00:00<?, ?it/s]"
     ]
    },
    {
     "name": "stdout",
     "output_type": "stream",
     "text": [
      "Preparing dataset...\n"
     ]
    },
    {
     "name": "stderr",
     "output_type": "stream",
     "text": [
      "100%|██████████| 4760/4760 [02:44<00:00, 28.99it/s]\n"
     ]
    },
    {
     "name": "stdout",
     "output_type": "stream",
     "text": [
      "Creating partition\n",
      "Train total samples: 3570, Class 1: 681, Class 0: 2889, Ratio: 19.07563025210084%\n",
      "Test total samples: 1190, Class 1: 227, Class 0: 963, Ratio: 19.07563025210084%\n"
     ]
    }
   ],
   "source": [
    "model = Estimator(df, kind='linear', imbalanced=True)"
   ]
  },
  {
   "cell_type": "code",
   "execution_count": 62,
   "metadata": {},
   "outputs": [
    {
     "name": "stdout",
     "output_type": "stream",
     "text": [
      "Training XGB estimator...\n",
      "[20:09:19] WARNING: /Users/runner/work/xgboost/xgboost/src/learner.cc:576: \n",
      "Parameters: { \"val_metric\" } might not be used.\n",
      "\n",
      "  This could be a false alarm, with some parameters getting used by language bindings but\n",
      "  then being mistakenly passed down to XGBoost core, or some parameter actually being used\n",
      "  but getting flagged wrongly here. Please open an issue if you find any such cases.\n",
      "\n",
      "\n",
      "[20:09:19] WARNING: /Users/runner/work/xgboost/xgboost/src/learner.cc:1115: Starting in XGBoost 1.3.0, the default evaluation metric used with the objective 'binary:logistic' was changed from 'error' to 'logloss'. Explicitly set eval_metric if you'd like to restore the old behavior.\n",
      "Model trained\n"
     ]
    }
   ],
   "source": [
    "model.train()"
   ]
  },
  {
   "cell_type": "code",
   "execution_count": 63,
   "metadata": {},
   "outputs": [
    {
     "name": "stdout",
     "output_type": "stream",
     "text": [
      "Precision: 92.55813953488372%, Recall: 87.66519823788546%\n",
      "Feature importance                                               0\n",
      "VAR_MRR_COEF                           0.346284\n",
      "AGE_COEF                               0.104725\n",
      "FIX_MRR_COEF                           0.079235\n",
      "DELTA_LAST_INVOICE_LOAD_INTERCEPT      0.065144\n",
      "USERS_PER_FTE_COEF                     0.054045\n",
      "ACTIVE_USERS_PER_FTE_COEF              0.046642\n",
      "LAST_LOAD_DATE_INTERCEPT               0.032620\n",
      "AGE_INTERCEPT                          0.031081\n",
      "FIX_MRR_INTERCEPT                      0.028235\n",
      "COUNT_PAY_PER_ACTIVE_USERS_COEF        0.021852\n",
      "VAR_MRR_PER_FTE_COEF                   0.020500\n",
      "AVERAGE_TIME_PER_USER_INTERCEPT        0.019874\n",
      "VAR_MRR_PER_FTE_INTERCEPT              0.019708\n",
      "NB_ACTIVE_PLASTIC_CARDS_COEF           0.016510\n",
      "AMOUNT_PAY_PER_ACTIVE_USERS_INTERCEPT  0.016001\n",
      "ACTIVE_USERS_PER_FTE_INTERCEPT         0.015108\n",
      "FTE_AGG_INTERCEPT                      0.014950\n",
      "VAR_MRR_INTERCEPT                      0.014361\n",
      "NB_ACTIVE_PLASTIC_CARDS_INTERCEPT      0.011528\n",
      "AMOUNT_PAY_PER_ACTIVE_USERS_COEF       0.011205\n",
      "USERS_PER_FTE_INTERCEPT                0.009083\n",
      "COUNT_PAY_PER_ACTIVE_USERS_INTERCEPT   0.008565\n",
      "FIRST_LOAD_DATE_INTERCEPT              0.006883\n",
      "AVERAGE_TIME_PER_USER_COEF             0.005864\n",
      "LAST_LOAD_DATE_COEF                    0.000000\n",
      "DELTA_LAST_INVOICE_LOAD_COEF           0.000000\n",
      "FTE_AGG_COEF                           0.000000\n",
      "FIRST_LOAD_DATE_COEF                   0.000000\n",
      "CM [[947  16]\n",
      " [ 28 199]]\n"
     ]
    },
    {
     "name": "stderr",
     "output_type": "stream",
     "text": [
      "/Users/nfsrules/opt/anaconda3/envs/NewPytorch/lib/python3.7/site-packages/ipykernel_launcher.py:116: SettingWithCopyWarning: \n",
      "A value is trying to be set on a copy of a slice from a DataFrame.\n",
      "Try using .loc[row_indexer,col_indexer] = value instead\n",
      "\n",
      "See the caveats in the documentation: https://pandas.pydata.org/pandas-docs/stable/user_guide/indexing.html#returning-a-view-versus-a-copy\n"
     ]
    },
    {
     "name": "stdout",
     "output_type": "stream",
     "text": [
      "Acc AGE <= 6.0 months: 83.87096774193549%\n",
      "Acc AGE > 6.0 and <= 12.0 months: 88.67924528301887%\n",
      "Acc AGE > 12.0 and <= 23.0 months: 96.55172413793103%\n",
      "Acc AGE > 23.0 months: 81.48148148148148%\n"
     ]
    },
    {
     "name": "stderr",
     "output_type": "stream",
     "text": [
      "/Users/nfsrules/opt/anaconda3/envs/NewPytorch/lib/python3.7/site-packages/ipykernel_launcher.py:124: SettingWithCopyWarning: \n",
      "A value is trying to be set on a copy of a slice from a DataFrame.\n",
      "Try using .loc[row_indexer,col_indexer] = value instead\n",
      "\n",
      "See the caveats in the documentation: https://pandas.pydata.org/pandas-docs/stable/user_guide/indexing.html#returning-a-view-versus-a-copy\n",
      "/Users/nfsrules/opt/anaconda3/envs/NewPytorch/lib/python3.7/site-packages/ipykernel_launcher.py:125: SettingWithCopyWarning: \n",
      "A value is trying to be set on a copy of a slice from a DataFrame.\n",
      "Try using .loc[row_indexer,col_indexer] = value instead\n",
      "\n",
      "See the caveats in the documentation: https://pandas.pydata.org/pandas-docs/stable/user_guide/indexing.html#returning-a-view-versus-a-copy\n"
     ]
    },
    {
     "data": {
      "image/png": "[encoded data removed]",
      "text/plain": [
       "<Figure size 432x288 with 2 Axes>"
      ]
     },
     "metadata": {
      "needs_background": "light"
     },
     "output_type": "display_data"
    },
    {
     "data": {
      "image/png": "[encoded data removed]",
      "text/plain": [
       "<Figure size 432x288 with 1 Axes>"
      ]
     },
     "metadata": {
      "needs_background": "light"
     },
     "output_type": "display_data"
    }
   ],
   "source": [
    "model.evaluate()"
   ]
  },
  {
   "cell_type": "code",
   "execution_count": 65,
   "metadata": {},
   "outputs": [],
   "source": [
    "# Save training dataset\n",
    "#model.X_train.to_csv('X_train_linear.csv')\n",
    "#model.y_train.to_csv('y_train_linear.csv')\n",
    "\n",
    "# Save test dataset and predictions\n",
    "#pd.DataFrame(model.y_test_pred).to_csv('y_test_linear_pred.csv')\n",
    "#model.y_test.to_csv('y_test_linear_true.csv')\n",
    "#model.X_test.to_csv('X_test_linear.csv')"
   ]
  }
 ],
 "metadata": {
  "kernelspec": {
   "display_name": "NewPytorch",
   "language": "python",
   "name": "newpytorch"
  },
  "language_info": {
   "codemirror_mode": {
    "name": "ipython",
    "version": 3
   },
   "file_extension": ".py",
   "mimetype": "text/x-python",
   "name": "python",
   "nbconvert_exporter": "python",
   "pygments_lexer": "ipython3",
   "version": "3.7.7"
  }
 },
 "nbformat": 4,
 "nbformat_minor": 4
}
